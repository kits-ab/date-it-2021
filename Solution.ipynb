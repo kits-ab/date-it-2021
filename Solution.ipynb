{
 "cells": [
  {
   "cell_type": "code",
   "execution_count": 25,
   "id": "9f55f116-aac5-43cb-bea6-10f52aa7437c",
   "metadata": {},
   "outputs": [],
   "source": [
    "import pandas as pd"
   ]
  },
  {
   "cell_type": "code",
   "execution_count": 26,
   "id": "9f207dab-2363-4074-9bf9-635978090574",
   "metadata": {},
   "outputs": [],
   "source": [
    "kommuner = pd.read_csv('kommuner.csv', sep=';', dtype={\"Kod\":\"string\"})\n",
    "skolverksamhet = pd.read_csv('skolverksamhet.csv', sep=';', dtype={\"Kod\":\"string\"}).dropna()"
   ]
  },
  {
   "cell_type": "code",
   "execution_count": 27,
   "id": "03b869a2-146f-4b92-bb2c-7ec83b9c4ea4",
   "metadata": {},
   "outputs": [],
   "source": [
    "output = pd.merge(kommuner, skolverksamhet, on='Kod')\n",
    "\n",
    "output.to_csv('output.csv', sep=';', index=False)"
   ]
  }
 ],
 "metadata": {
  "kernelspec": {
   "display_name": "Python 3 (ipykernel)",
   "language": "python",
   "name": "python3"
  },
  "language_info": {
   "codemirror_mode": {
    "name": "ipython",
    "version": 3
   },
   "file_extension": ".py",
   "mimetype": "text/x-python",
   "name": "python",
   "nbconvert_exporter": "python",
   "pygments_lexer": "ipython3",
   "version": "3.8.10"
  }
 },
 "nbformat": 4,
 "nbformat_minor": 5
}
