{
 "cells": [
  {
   "cell_type": "code",
   "source": "# Solution for date-it-2021 written in Python (.ipynb notebook) with use of pandas\n# 7 lines of code, not counting comments, imports and new lines (to make it look pretty c:)\n\n# Name:    Nils Trubkin\n# Github:  https://github.com/nils-trubkin\n# Website: https://nils.tk\n# E-mail:  nils.trubkin@gmail.com\n# Phone:   070-279-53-86",
   "metadata": {
    "tags": [],
    "cell_id": "00001-f5f0569d-21db-4c1d-8b7b-3374fb52d716",
    "deepnote_to_be_reexecuted": false,
    "source_hash": "5f0e90df",
    "execution_start": 1636656487810,
    "execution_millis": 41,
    "deepnote_cell_type": "code"
   },
   "outputs": [],
   "execution_count": 1
  },
  {
   "cell_type": "code",
   "source": "# Clone the git, do the imports\n!git clone -q https://github.com/kits-ab/date-it-2021.git\nimport pandas as pd",
   "metadata": {
    "tags": [],
    "cell_id": "00001-04371dea-9faf-413b-b839-0ff48b3d10f4",
    "deepnote_to_be_reexecuted": false,
    "source_hash": "2c2be356",
    "execution_start": 1636656487851,
    "execution_millis": 251,
    "deepnote_cell_type": "code"
   },
   "outputs": [
    {
     "name": "stdout",
     "text": "fatal: destination path 'date-it-2021' already exists and is not an empty directory.\r\n",
     "output_type": "stream"
    }
   ],
   "execution_count": 2
  },
  {
   "cell_type": "code",
   "source": "# Load the .csv files\ndk = pd.read_csv('date-it-2021/kommuner.csv', sep=';')\nds = pd.read_csv('date-it-2021/skolverksamhet.csv', sep=';')",
   "metadata": {
    "tags": [],
    "cell_id": "00002-c126f5a2-a3ab-4fe6-b147-581918d34b6b",
    "deepnote_to_be_reexecuted": false,
    "source_hash": "e6f6103e",
    "execution_start": 1636656488151,
    "execution_millis": 0,
    "deepnote_cell_type": "code"
   },
   "outputs": [],
   "execution_count": 3
  },
  {
   "cell_type": "code",
   "source": "# Merge the DataFrames\nm = pd.merge(dk, ds, on=\"Kod\")\n# Filter and copy\nres = m[(m[\"Grund-skola\"] == \"Ja\") &\n        (m[\"Förskole-klass\"] == \"Ja\") &\n        (m[\"Fritids-hem\"] == \"Ja\")].copy()",
   "metadata": {
    "tags": [],
    "cell_id": "00005-c38311e0-c1e9-4271-88e3-5eabb677724f",
    "deepnote_to_be_reexecuted": false,
    "source_hash": "b8f48b76",
    "execution_start": 1636656488152,
    "execution_millis": 0,
    "deepnote_cell_type": "code"
   },
   "outputs": [],
   "execution_count": 4
  },
  {
   "cell_type": "code",
   "source": "# Pad with zeros to a 4-digit number on 'Kod'\nres['Kod'] = res['Kod'].astype(str).str.pad(4,fillchar='0').copy()\n# Set index to avoid automatically generated ids\nres = res.set_index('Kod')\n# Save result to file\nres.to_csv('result.csv', sep=';')",
   "metadata": {
    "tags": [],
    "cell_id": "00006-966e69f2-0bae-4f4d-b6bf-12cf3be7e241",
    "deepnote_to_be_reexecuted": false,
    "source_hash": "6e3711ba",
    "execution_start": 1636656488195,
    "execution_millis": 1,
    "deepnote_cell_type": "code"
   },
   "outputs": [],
   "execution_count": 5
  },
  {
   "cell_type": "markdown",
   "source": "<a style='text-decoration:none;line-height:16px;display:flex;color:#5B5B62;padding:10px;justify-content:end;' href='https://deepnote.com?utm_source=created-in-deepnote-cell&projectId=db826ab6-3d8e-47d2-aada-ec91ad9b88be' target=\"_blank\">\n<img alt='Created in deepnote.com' style='display:inline;max-height:16px;margin:0px;margin-right:7.5px;' src='data:image/svg+xml;base64,PD94bWwgdmVyc2lvbj0iMS4wIiBlbmNvZGluZz0iVVRGLTgiPz4KPHN2ZyB3aWR0aD0iODBweCIgaGVpZ2h0PSI4MHB4IiB2aWV3Qm94PSIwIDAgODAgODAiIHZlcnNpb249IjEuMSIgeG1sbnM9Imh0dHA6Ly93d3cudzMub3JnLzIwMDAvc3ZnIiB4bWxuczp4bGluaz0iaHR0cDovL3d3dy53My5vcmcvMTk5OS94bGluayI+CiAgICA8IS0tIEdlbmVyYXRvcjogU2tldGNoIDU0LjEgKDc2NDkwKSAtIGh0dHBzOi8vc2tldGNoYXBwLmNvbSAtLT4KICAgIDx0aXRsZT5Hcm91cCAzPC90aXRsZT4KICAgIDxkZXNjPkNyZWF0ZWQgd2l0aCBTa2V0Y2guPC9kZXNjPgogICAgPGcgaWQ9IkxhbmRpbmciIHN0cm9rZT0ibm9uZSIgc3Ryb2tlLXdpZHRoPSIxIiBmaWxsPSJub25lIiBmaWxsLXJ1bGU9ImV2ZW5vZGQiPgogICAgICAgIDxnIGlkPSJBcnRib2FyZCIgdHJhbnNmb3JtPSJ0cmFuc2xhdGUoLTEyMzUuMDAwMDAwLCAtNzkuMDAwMDAwKSI+CiAgICAgICAgICAgIDxnIGlkPSJHcm91cC0zIiB0cmFuc2Zvcm09InRyYW5zbGF0ZSgxMjM1LjAwMDAwMCwgNzkuMDAwMDAwKSI+CiAgICAgICAgICAgICAgICA8cG9seWdvbiBpZD0iUGF0aC0yMCIgZmlsbD0iIzAyNjVCNCIgcG9pbnRzPSIyLjM3NjIzNzYyIDgwIDM4LjA0NzY2NjcgODAgNTcuODIxNzgyMiA3My44MDU3NTkyIDU3LjgyMTc4MjIgMzIuNzU5MjczOSAzOS4xNDAyMjc4IDMxLjY4MzE2ODMiPjwvcG9seWdvbj4KICAgICAgICAgICAgICAgIDxwYXRoIGQ9Ik0zNS4wMDc3MTgsODAgQzQyLjkwNjIwMDcsNzYuNDU0OTM1OCA0Ny41NjQ5MTY3LDcxLjU0MjI2NzEgNDguOTgzODY2LDY1LjI2MTk5MzkgQzUxLjExMjI4OTksNTUuODQxNTg0MiA0MS42NzcxNzk1LDQ5LjIxMjIyODQgMjUuNjIzOTg0Niw0OS4yMTIyMjg0IEMyNS40ODQ5Mjg5LDQ5LjEyNjg0NDggMjkuODI2MTI5Niw0My4yODM4MjQ4IDM4LjY0NzU4NjksMzEuNjgzMTY4MyBMNzIuODcxMjg3MSwzMi41NTQ0MjUgTDY1LjI4MDk3Myw2Ny42NzYzNDIxIEw1MS4xMTIyODk5LDc3LjM3NjE0NCBMMzUuMDA3NzE4LDgwIFoiIGlkPSJQYXRoLTIyIiBmaWxsPSIjMDAyODY4Ij48L3BhdGg+CiAgICAgICAgICAgICAgICA8cGF0aCBkPSJNMCwzNy43MzA0NDA1IEwyNy4xMTQ1MzcsMC4yNTcxMTE0MzYgQzYyLjM3MTUxMjMsLTEuOTkwNzE3MDEgODAsMTAuNTAwMzkyNyA4MCwzNy43MzA0NDA1IEM4MCw2NC45NjA0ODgyIDY0Ljc3NjUwMzgsNzkuMDUwMzQxNCAzNC4zMjk1MTEzLDgwIEM0Ny4wNTUzNDg5LDc3LjU2NzA4MDggNTMuNDE4MjY3Nyw3MC4zMTM2MTAzIDUzLjQxODI2NzcsNTguMjM5NTg4NSBDNTMuNDE4MjY3Nyw0MC4xMjg1NTU3IDM2LjMwMzk1NDQsMzcuNzMwNDQwNSAyNS4yMjc0MTcsMzcuNzMwNDQwNSBDMTcuODQzMDU4NiwzNy43MzA0NDA1IDkuNDMzOTE5NjYsMzcuNzMwNDQwNSAwLDM3LjczMDQ0MDUgWiIgaWQ9IlBhdGgtMTkiIGZpbGw9IiMzNzkzRUYiPjwvcGF0aD4KICAgICAgICAgICAgPC9nPgogICAgICAgIDwvZz4KICAgIDwvZz4KPC9zdmc+' > </img>\nCreated in <span style='font-weight:600;margin-left:4px;'>Deepnote</span></a>",
   "metadata": {
    "tags": [],
    "created_in_deepnote_cell": true,
    "deepnote_cell_type": "markdown"
   }
  }
 ],
 "nbformat": 4,
 "nbformat_minor": 2,
 "metadata": {
  "orig_nbformat": 2,
  "deepnote": {
   "is_reactive": false
  },
  "deepnote_notebook_id": "92d455a3-418b-4f7a-acf7-a8a68b7b8ff9",
  "deepnote_execution_queue": []
 }
}