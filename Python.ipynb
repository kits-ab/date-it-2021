{
 "cells": [
  {
   "cell_type": "markdown",
   "id": "62cc0e1d",
   "metadata": {},
   "source": [
    "## Submission for Kits DatE-IT coding competition"
   ]
  },
  {
   "cell_type": "markdown",
   "id": "d1c43058",
   "metadata": {},
   "source": [
    "### Comments on the solution\n",
    "I have provided a general merge function that takes the path to two csvs and where the merged csv should be placed. Then there are also 3 options that can be provied to the function.\n",
    "* What separator the inputed and resulting csv uses\n",
    "* Whether the function is allowed to be destructive and overwrite already existing files when creating the merged csv\n",
    "* Whether rows with empty values should be retained in the merged csv.\n",
    "  * By checking this option, this challenge's desired filter is applied to the csv.\n",
    "\n",
    "I have also included basic error messages to reflect if something went wrong and why. The library pandas throws an exception when trying to read a non-existing file which was left in."
   ]
  },
  {
   "cell_type": "markdown",
   "id": "09766d1c",
   "metadata": {},
   "source": [
    "### Contact info\n",
    "\n",
    "Name: Eric Carlsson  \n",
    "Phone: nollsju 25 123 178 (to avoid spammers scraping my phone number)  \n",
    "email: mail(at)ericcarlsson.com  "
   ]
  },
  {
   "cell_type": "markdown",
   "id": "e4cd59eb",
   "metadata": {},
   "source": [
    "### Solution"
   ]
  },
  {
   "cell_type": "code",
   "execution_count": 1,
   "id": "db952781",
   "metadata": {},
   "outputs": [],
   "source": [
    "import pandas as pd\n",
    "from pathlib import Path\n",
    "\n",
    "\n",
    "# helper function\n",
    "def intersection(a, b):\n",
    "    return list(set(a).intersection(b))\n",
    "\n",
    "\n",
    "\"\"\"\n",
    "Description:\n",
    "A function that, given 2 csvs, tries to merge them.\n",
    "\n",
    "Parameters:\n",
    " - csv_1 path, csv_2_path, csv_result_path: path to file\n",
    " - separator: sepator used in csv_1 and csv_2\n",
    " - overwrite_result: determines whether this function should be allowed to overwrite a previously written file. \n",
    "     Allows the used to avoid destructive actions and potential loss of data\n",
    " - remove_empty: determines if rows with empty values should be used in retained in the resulting csv\n",
    "\n",
    "Return value: (bool, str) -> (successful, error_message)\n",
    "\n",
    "\"\"\"\n",
    "def merge_csvs(csv_1_path :str, csv_2_path :str, csv_result_path: str, separator=\";\", overwrite_result=False, remove_empty=False) -> (bool, str):\n",
    "    \n",
    "    # Error definitions\n",
    "    errors = {\n",
    "    \"no_shared_key\": \"There was no shared key between the two provided csvs\",\n",
    "    \"result_path\": \"There was already a file at the path provided for the result csv.\\nIf you wish to overwrite set {overwrite_result=True}\"\n",
    "        }\n",
    "\n",
    "    # if {overwrite_result==False} check if a file of name {result_path} already exists \n",
    "    if not overwrite_result:\n",
    "        res_path = Path(csv_result_path)\n",
    "        if res_path.is_file():\n",
    "            return (False, errors[\"result_path\"])\n",
    "    \n",
    "    # load CSVs\n",
    "    csv_1 = pd.read_csv(csv_1_path, sep=separator, dtype=str)\n",
    "    csv_2 = pd.read_csv(csv_2_path, sep=separator, dtype=str)\n",
    "    \n",
    "    # find column(s) to merge on\n",
    "    shared_cols = intersection(csv_1.columns, csv_2.columns)\n",
    "    if len(shared_cols) == 0:\n",
    "        return (False, errors[\"no_shared_key\"])\n",
    "    \n",
    "    # remove empty if specified\n",
    "    if remove_empty:\n",
    "        csv_1 = csv_1.dropna(how=\"any\")\n",
    "        csv_2 = csv_2.dropna(how=\"any\")\n",
    "    \n",
    "    # merge the csvs on the shared columns\n",
    "    res = pd.merge(csv_1, csv_2, on=shared_cols)\n",
    "    \n",
    "    # create the result CSV\n",
    "    res.to_csv(csv_result_path, sep=separator, index=False)\n",
    "    \n",
    "    return (True, \"\")"
   ]
  },
  {
   "cell_type": "markdown",
   "id": "c552b50a",
   "metadata": {},
   "source": [
    "### Example usage"
   ]
  },
  {
   "cell_type": "code",
   "execution_count": 2,
   "id": "28d1e282",
   "metadata": {
    "scrolled": true
   },
   "outputs": [
    {
     "data": {
      "text/plain": [
       "(True, '')"
      ]
     },
     "execution_count": 2,
     "metadata": {},
     "output_type": "execute_result"
    }
   ],
   "source": [
    "merge_csvs(\"kommuner.csv\", \"skolverksamhet.csv\", \"result.csv\")"
   ]
  },
  {
   "cell_type": "code",
   "execution_count": 3,
   "id": "1505caa1",
   "metadata": {},
   "outputs": [
    {
     "data": {
      "text/plain": [
       "(False,\n",
       " 'There was already a file at the path provided for the result csv.\\nIf you wish to overwrite then set {overwrite_result=True}')"
      ]
     },
     "execution_count": 3,
     "metadata": {},
     "output_type": "execute_result"
    }
   ],
   "source": [
    "merge_csvs(\"kommuner.csv\", \"skolverksamhet.csv\", \"result.csv\")"
   ]
  },
  {
   "cell_type": "code",
   "execution_count": 4,
   "id": "0d71a653",
   "metadata": {},
   "outputs": [
    {
     "data": {
      "text/plain": [
       "(True, '')"
      ]
     },
     "execution_count": 4,
     "metadata": {},
     "output_type": "execute_result"
    }
   ],
   "source": [
    "merge_csvs(\"kommuner.csv\", \"skolverksamhet.csv\", \"result.csv\", overwrite_result=True)"
   ]
  },
  {
   "cell_type": "code",
   "execution_count": 5,
   "id": "9f2fc5aa",
   "metadata": {},
   "outputs": [
    {
     "data": {
      "text/plain": [
       "(True, '')"
      ]
     },
     "execution_count": 5,
     "metadata": {},
     "output_type": "execute_result"
    }
   ],
   "source": [
    "merge_csvs(\"kommuner.csv\", \"skolverksamhet.csv\", \"result.csv\", remove_empty=True, overwrite_result=True)"
   ]
  }
 ],
 "metadata": {
  "kernelspec": {
   "display_name": "Python 3",
   "language": "python",
   "name": "python3"
  },
  "language_info": {
   "codemirror_mode": {
    "name": "ipython",
    "version": 3
   },
   "file_extension": ".py",
   "mimetype": "text/x-python",
   "name": "python",
   "nbconvert_exporter": "python",
   "pygments_lexer": "ipython3",
   "version": "3.8.8"
  }
 },
 "nbformat": 4,
 "nbformat_minor": 5
}
